{
 "cells": [
  {
   "cell_type": "markdown",
   "metadata": {
    "application/vnd.databricks.v1+cell": {
     "cellMetadata": {},
     "inputWidgets": {},
     "nuid": "6f01dec1-8ba6-4ec8-9076-5f1b5b3f7ba9",
     "showTitle": false,
     "title": ""
    }
   },
   "source": [
    "### Part 1"
   ]
  },
  {
   "cell_type": "code",
   "execution_count": 0,
   "metadata": {
    "application/vnd.databricks.v1+cell": {
     "cellMetadata": {},
     "inputWidgets": {},
     "nuid": "f1bf8d6a-3b8f-4cdc-bf96-ba078246e5e2",
     "showTitle": false,
     "title": ""
    },
    "trusted": true
   },
   "outputs": [],
   "source": [
    "import numpy as np"
   ]
  },
  {
   "cell_type": "code",
   "execution_count": 0,
   "metadata": {
    "application/vnd.databricks.v1+cell": {
     "cellMetadata": {},
     "inputWidgets": {},
     "nuid": "c8051daa-dcbd-434c-8eb6-df16aeb4208a",
     "showTitle": false,
     "title": ""
    },
    "trusted": true
   },
   "outputs": [],
   "source": [
    "def compute_no_of_ways_which_beats_record(allowed_time, record_distance):\n",
    "    dict_press_time_race_dist = {}\n",
    "    for press_time in range(0, allowed_time + 1, 1):\n",
    "        race_dist = (allowed_time - press_time) * press_time\n",
    "        if race_dist > record_distance:\n",
    "            dict_press_time_race_dist[press_time] = race_dist\n",
    "    return len(dict_press_time_race_dist)"
   ]
  },
  {
   "cell_type": "code",
   "execution_count": 0,
   "metadata": {
    "application/vnd.databricks.v1+cell": {
     "cellMetadata": {},
     "inputWidgets": {},
     "nuid": "935d4df0-1e5c-4c05-8b89-f18f0568d7c5",
     "showTitle": false,
     "title": ""
    },
    "trusted": true
   },
   "outputs": [],
   "source": [
    "f = open(\"input6.txt\", \"r\")\n",
    "time_str, distance_str = f.readlines()\n",
    "time_lst = [int(time) for time in time_str.replace('Time:','').replace('\\n','').strip().split('     ')]\n",
    "distance_lst = [int(distance) for distance in distance_str.replace('Distance:','').replace('\\n','').strip().split('   ')]\n",
    "no_of_ways_lst = []\n",
    "for allowed_time, record_distance in zip(time_lst, distance_lst):\n",
    "    no_of_ways_lst += [compute_no_of_ways_which_beats_record(allowed_time, record_distance)]\n",
    "no_of_ways_product = np.prod(np.array(no_of_ways_lst))  "
   ]
  },
  {
   "cell_type": "code",
   "execution_count": 0,
   "metadata": {
    "application/vnd.databricks.v1+cell": {
     "cellMetadata": {},
     "inputWidgets": {},
     "nuid": "ebf0194c-80b9-43a1-8b34-b2d71cc70f7e",
     "showTitle": false,
     "title": ""
    },
    "trusted": true
   },
   "outputs": [
    {
     "output_type": "execute_result",
     "data": {
      "text/plain": [
       "393120"
      ]
     },
     "execution_count": 45,
     "metadata": {},
     "output_type": "execute_result"
    }
   ],
   "source": [
    "no_of_ways_product"
   ]
  },
  {
   "cell_type": "code",
   "execution_count": 0,
   "metadata": {
    "application/vnd.databricks.v1+cell": {
     "cellMetadata": {},
     "inputWidgets": {},
     "nuid": "5825e155-fa44-4fb8-9263-c8c86cf7edee",
     "showTitle": false,
     "title": ""
    },
    "trusted": true
   },
   "outputs": [],
   "source": [
    "### Part 2"
   ]
  },
  {
   "cell_type": "code",
   "execution_count": 0,
   "metadata": {
    "application/vnd.databricks.v1+cell": {
     "cellMetadata": {
      "byteLimit": 2048000,
      "rowLimit": 10000
     },
     "inputWidgets": {},
     "nuid": "566c6a88-36f8-488d-b875-a01e78fb479a",
     "showTitle": false,
     "title": ""
    },
    "trusted": true
   },
   "outputs": [],
   "source": [
    "f = open(\"input6.txt\", \"r\")\n",
    "time_str, distance_str = f.readlines()\n",
    "allowed_time = int(time_str.replace('Time:','').replace('\\n','').strip().replace('     ', ''))\n",
    "record_distance = int(distance_str.replace('Distance:','').replace('\\n','').strip().replace('   ', ''))\n",
    "no_of_ways = compute_no_of_ways_which_beats_record(allowed_time, record_distance)"
   ]
  },
  {
   "cell_type": "code",
   "execution_count": 0,
   "metadata": {
    "application/vnd.databricks.v1+cell": {
     "cellMetadata": {
      "byteLimit": 2048000,
      "rowLimit": 10000
     },
     "inputWidgets": {},
     "nuid": "4ba40f0d-77c0-4ad1-9865-05f538ce5219",
     "showTitle": false,
     "title": ""
    }
   },
   "outputs": [
    {
     "output_type": "stream",
     "name": "stdout",
     "output_type": "stream",
     "text": [
      "Out[4]: 36872656"
     ]
    }
   ],
   "source": [
    "no_of_ways"
   ]
  }
 ],
 "metadata": {
  "application/vnd.databricks.v1+notebook": {
   "dashboards": [],
   "language": "python",
   "notebookMetadata": {
    "pythonIndentUnit": 4
   },
   "notebookName": "day6",
   "widgets": {}
  },
  "kernelspec": {
   "display_name": "Python (Pyodide)",
   "language": "python",
   "name": "python"
  },
  "language_info": {
   "codemirror_mode": {
    "name": "python",
    "version": 3
   },
   "file_extension": ".py",
   "mimetype": "text/x-python",
   "name": "python",
   "nbconvert_exporter": "python",
   "pygments_lexer": "ipython3",
   "version": "3.8"
  }
 },
 "nbformat": 4,
 "nbformat_minor": 0
}
