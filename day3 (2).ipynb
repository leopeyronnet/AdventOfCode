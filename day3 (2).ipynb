{
  "metadata": {
    "kernelspec": {
      "name": "python",
      "display_name": "Python (Pyodide)",
      "language": "python"
    },
    "language_info": {
      "codemirror_mode": {
        "name": "python",
        "version": 3
      },
      "file_extension": ".py",
      "mimetype": "text/x-python",
      "name": "python",
      "nbconvert_exporter": "python",
      "pygments_lexer": "ipython3",
      "version": "3.8"
    }
  },
  "nbformat_minor": 4,
  "nbformat": 4,
  "cells": [
    {
      "cell_type": "markdown",
      "source": "### Part 1",
      "metadata": {}
    },
    {
      "cell_type": "code",
      "source": "import re",
      "metadata": {
        "trusted": true
      },
      "outputs": [],
      "execution_count": 1
    },
    {
      "cell_type": "code",
      "source": "f = open(\"input3.txt\", \"r\")\nlist_dict_number_x_y_pos = []\nlist_dict_symbol_x_y_pos = []\nline_number = 0\nfor line in f.readlines():\n    line = line.replace('\\n', '')\n    number_matchs = re.finditer(r'\\d+', line)\n    list_dict_number_x_y_pos += [{'number': int(number_match.group()),\n                                  'x_start' : number_match.start(),\n                                  'x_end' : number_match.end(),\n                                  'y' : line_number}\n                                 for number_match in number_matchs]\n    symbol_matchs = re.finditer('[^A-Za-z0-9.]', line)\n    list_dict_symbol_x_y_pos += [{'x' : symbol_match.start(),\n                                  'y' : line_number}\n                                 for symbol_match in symbol_matchs]\n    line_number += 1",
      "metadata": {
        "trusted": true
      },
      "outputs": [],
      "execution_count": 2
    },
    {
      "cell_type": "code",
      "source": "sum_of_numbers = 0\nfor number_x_y_pos in list_dict_number_x_y_pos:\n    skip_loop = 0\n    x_start = number_x_y_pos['x_start']\n    x_end =  number_x_y_pos['x_end']\n    y_number = number_x_y_pos['y']\n    for y in [y_number - 1, y_number, y_number + 1]:\n        for x in range(x_start - 1, x_end + 1, 1):\n            if ({'x' : x, 'y' : y} in list_dict_symbol_x_y_pos) and not(skip_loop):\n                sum_of_numbers += number_x_y_pos['number']\n                #print(number_x_y_pos['number'])\n                skip_loop = 1\n                break",
      "metadata": {
        "trusted": true
      },
      "outputs": [],
      "execution_count": 3
    },
    {
      "cell_type": "code",
      "source": "f'sum of numbers : {sum_of_numbers}'",
      "metadata": {
        "trusted": true
      },
      "outputs": [
        {
          "execution_count": 4,
          "output_type": "execute_result",
          "data": {
            "text/plain": "'sum of numbers : 535078'"
          },
          "metadata": {}
        }
      ],
      "execution_count": 4
    },
    {
      "cell_type": "markdown",
      "source": "### Part 2",
      "metadata": {}
    },
    {
      "cell_type": "code",
      "source": "import pandas as pd",
      "metadata": {
        "trusted": true
      },
      "outputs": [],
      "execution_count": 5
    },
    {
      "cell_type": "code",
      "source": "f = open(\"input3.txt\", \"r\")\nlist_dict_number_x_y_pos = []\nlist_dict_symbol_x_y_pos = []\nline_number = 0\nfor line in f.readlines():\n    line = line.replace('\\n', '')\n    number_matchs = re.finditer(r'\\d+', line)\n    list_dict_number_x_y_pos += [{'number': int(number_match.group()),\n                                  'x' : x,\n                                  'y' : line_number,\n                                  'x_start' : number_match.start(),\n                                  'x_end' : number_match.end()}\n                                 for number_match in number_matchs \n                                 for x in range(number_match.start(), number_match.end(), 1)]\n    symbol_matchs = re.finditer('[^A-Za-z0-9.]', line)\n    list_dict_symbol_x_y_pos += [{'x' : symbol_match.start(),\n                                  'y' : line_number}\n                                 for symbol_match in symbol_matchs]\n    line_number += 1",
      "metadata": {
        "trusted": true
      },
      "outputs": [],
      "execution_count": 6
    },
    {
      "cell_type": "code",
      "source": "df_number_x_y_pos = pd.DataFrame.from_dict(list_dict_number_x_y_pos)\nsum_of_gear_ratios = 0\nfor symbol_x_y_pos in list_dict_symbol_x_y_pos:\n    df_number_x_y_pos_cp = df_number_x_y_pos.copy()\n    list_gear_ratios = []\n    x_symbol = symbol_x_y_pos['x']\n    y_symbol =  symbol_x_y_pos['y']\n    for y in [y_symbol - 1, y_symbol, y_symbol + 1]:\n        for x in range(x_symbol - 1, x_symbol + 2, 1):\n            cur_num_df = df_number_x_y_pos_cp[(df_number_x_y_pos_cp.x == x) & (df_number_x_y_pos_cp.y == y)]\n            if len(cur_num_df) > 0:\n                if len(list_gear_ratios) < 2:\n                    list_gear_ratios += [int(cur_num_df['number'])]\n                    df_number_x_y_pos_cp.drop(df_number_x_y_pos_cp[(df_number_x_y_pos_cp.number == int(cur_num_df['number'])) \n                                              & ((df_number_x_y_pos_cp.x_start == int(cur_num_df['x_start'])))\n                                              & ((df_number_x_y_pos_cp.y == int(cur_num_df['y'])))].index, inplace = True)\n    if len(list_gear_ratios) == 2:\n        sum_of_gear_ratios +=  list_gear_ratios[0]*list_gear_ratios[1]",
      "metadata": {
        "trusted": true
      },
      "outputs": [],
      "execution_count": 7
    },
    {
      "cell_type": "code",
      "source": "sum_of_gear_ratios",
      "metadata": {
        "trusted": true
      },
      "outputs": [
        {
          "execution_count": 8,
          "output_type": "execute_result",
          "data": {
            "text/plain": "75312571"
          },
          "metadata": {}
        }
      ],
      "execution_count": 8
    }
  ]
}