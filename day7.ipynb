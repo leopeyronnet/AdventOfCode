{
  "metadata": {
    "kernelspec": {
      "name": "python",
      "display_name": "Python (Pyodide)",
      "language": "python"
    },
    "language_info": {
      "codemirror_mode": {
        "name": "python",
        "version": 3
      },
      "file_extension": ".py",
      "mimetype": "text/x-python",
      "name": "python",
      "nbconvert_exporter": "python",
      "pygments_lexer": "ipython3",
      "version": "3.8"
    }
  },
  "nbformat_minor": 4,
  "nbformat": 4,
  "cells": [
    {
      "cell_type": "markdown",
      "source": "### Part 1",
      "metadata": {}
    },
    {
      "cell_type": "code",
      "source": "import pandas as pd",
      "metadata": {
        "trusted": true
      },
      "outputs": [],
      "execution_count": 1
    },
    {
      "cell_type": "code",
      "source": "def card_deck_translator(card_deck):\n    card_translator_dict = {'A': 'Z', 'K': 'Y', 'Q': 'X', 'J': 'W', 'T': 'V', '9': 'U', '8': 'T', '7': 'S', '6': 'R', '5': 'Q', '4': 'P', '3': 'O', '2':'N'}\n    return ''.join([card_translator_dict[letter] for letter in card_deck])",
      "metadata": {
        "trusted": true
      },
      "outputs": [],
      "execution_count": 2
    },
    {
      "cell_type": "code",
      "source": "def get_deck_type(deck):\n    card_count_dict = get_deck_card_count_dict(deck)\n    deck_type = -1\n    if 5 in card_count_dict.values():\n        return 7\n    elif 4 in card_count_dict.values():\n        return 6\n    elif (3 in card_count_dict.values()) & (2 in card_count_dict.values()):\n        return 5\n    elif 3 in card_count_dict.values():\n        return 4\n    elif sorted(card_count_dict.values()) == [1, 2, 2]:\n        return 3\n    elif 2 in card_count_dict.values():\n        return 2\n    else :\n        return 1",
      "metadata": {
        "trusted": true
      },
      "outputs": [],
      "execution_count": 3
    },
    {
      "cell_type": "code",
      "source": "def get_deck_card_count_dict(deck):\n    card_count_dict = {}\n    for card in deck:\n        if card not in card_count_dict.keys():\n            card_count_dict[card] = 1\n        else:\n            card_count_dict[card] = card_count_dict[card] + 1\n    return card_count_dict",
      "metadata": {
        "trusted": true
      },
      "outputs": [],
      "execution_count": 4
    },
    {
      "cell_type": "code",
      "source": "f = open(\"input7.txt\", \"r\")\ncard_deck_and_type_lst = []\nfor line in f.readlines():\n    card_deck, bid_amount = line.split(' ')[0:2]\n    bid_amount = int(bid_amount.replace('\\n', ''))\n    deck_type = get_deck_type(card_deck)\n    card_deck_and_type_lst.append({'card_deck': card_deck, 'deck_type' :deck_type, 'bid_amount' : bid_amount})\ndeck_df = pd.DataFrame(card_deck_and_type_lst)\ndeck_df['translated_card_deck'] = deck_df.card_deck.apply(lambda card_deck : card_deck_translator(card_deck))\ndeck_df = deck_df.sort_values(['deck_type', 'translated_card_deck']).reset_index()\ndeck_df['index'] = deck_df.index + 1",
      "metadata": {
        "trusted": true
      },
      "outputs": [],
      "execution_count": 5
    },
    {
      "cell_type": "code",
      "source": "deck_df",
      "metadata": {
        "trusted": true
      },
      "outputs": [
        {
          "execution_count": 6,
          "output_type": "execute_result",
          "data": {
            "text/plain": "     index card_deck  deck_type  bid_amount translated_card_deck\n0        1     23567          1         792                NOQRS\n1        2     249TK          1          51                NPUVY\n2        3     24AJ3          1         653                NPZWO\n3        4     254JK          1         757                NQPWY\n4        5     26TK5          1         237                NRVYQ\n..     ...       ...        ...         ...                  ...\n995    996     AAAA2          6         889                ZZZZN\n996    997     AAAA3          6         121                ZZZZO\n997    998     AAAA7          6          38                ZZZZS\n998    999     AAAAT          6         568                ZZZZV\n999   1000     JJJJJ          7         230                WWWWW\n\n[1000 rows x 5 columns]",
            "text/html": "<div>\n<style scoped>\n    .dataframe tbody tr th:only-of-type {\n        vertical-align: middle;\n    }\n\n    .dataframe tbody tr th {\n        vertical-align: top;\n    }\n\n    .dataframe thead th {\n        text-align: right;\n    }\n</style>\n<table border=\"1\" class=\"dataframe\">\n  <thead>\n    <tr style=\"text-align: right;\">\n      <th></th>\n      <th>index</th>\n      <th>card_deck</th>\n      <th>deck_type</th>\n      <th>bid_amount</th>\n      <th>translated_card_deck</th>\n    </tr>\n  </thead>\n  <tbody>\n    <tr>\n      <th>0</th>\n      <td>1</td>\n      <td>23567</td>\n      <td>1</td>\n      <td>792</td>\n      <td>NOQRS</td>\n    </tr>\n    <tr>\n      <th>1</th>\n      <td>2</td>\n      <td>249TK</td>\n      <td>1</td>\n      <td>51</td>\n      <td>NPUVY</td>\n    </tr>\n    <tr>\n      <th>2</th>\n      <td>3</td>\n      <td>24AJ3</td>\n      <td>1</td>\n      <td>653</td>\n      <td>NPZWO</td>\n    </tr>\n    <tr>\n      <th>3</th>\n      <td>4</td>\n      <td>254JK</td>\n      <td>1</td>\n      <td>757</td>\n      <td>NQPWY</td>\n    </tr>\n    <tr>\n      <th>4</th>\n      <td>5</td>\n      <td>26TK5</td>\n      <td>1</td>\n      <td>237</td>\n      <td>NRVYQ</td>\n    </tr>\n    <tr>\n      <th>...</th>\n      <td>...</td>\n      <td>...</td>\n      <td>...</td>\n      <td>...</td>\n      <td>...</td>\n    </tr>\n    <tr>\n      <th>995</th>\n      <td>996</td>\n      <td>AAAA2</td>\n      <td>6</td>\n      <td>889</td>\n      <td>ZZZZN</td>\n    </tr>\n    <tr>\n      <th>996</th>\n      <td>997</td>\n      <td>AAAA3</td>\n      <td>6</td>\n      <td>121</td>\n      <td>ZZZZO</td>\n    </tr>\n    <tr>\n      <th>997</th>\n      <td>998</td>\n      <td>AAAA7</td>\n      <td>6</td>\n      <td>38</td>\n      <td>ZZZZS</td>\n    </tr>\n    <tr>\n      <th>998</th>\n      <td>999</td>\n      <td>AAAAT</td>\n      <td>6</td>\n      <td>568</td>\n      <td>ZZZZV</td>\n    </tr>\n    <tr>\n      <th>999</th>\n      <td>1000</td>\n      <td>JJJJJ</td>\n      <td>7</td>\n      <td>230</td>\n      <td>WWWWW</td>\n    </tr>\n  </tbody>\n</table>\n<p>1000 rows × 5 columns</p>\n</div>"
          },
          "metadata": {}
        }
      ],
      "execution_count": 6
    },
    {
      "cell_type": "code",
      "source": "deck_df['deck_score'] = deck_df[['index', 'bid_amount']].apply(lambda x : x[0] * x[1], axis = 1)",
      "metadata": {
        "trusted": true
      },
      "outputs": [],
      "execution_count": 7
    },
    {
      "cell_type": "code",
      "source": "print(f\"total winnings score : {deck_df['deck_score'].sum()}\")",
      "metadata": {
        "trusted": true
      },
      "outputs": [
        {
          "name": "stdout",
          "text": "total winnings score : 251136060\n",
          "output_type": "stream"
        }
      ],
      "execution_count": 8
    },
    {
      "cell_type": "code",
      "source": "",
      "metadata": {
        "trusted": true
      },
      "outputs": [],
      "execution_count": null
    }
  ]
}