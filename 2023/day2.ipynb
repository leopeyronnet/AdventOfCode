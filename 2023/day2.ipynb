{
 "cells": [
  {
   "cell_type": "code",
   "execution_count": 1,
   "id": "e300ab25-3f9b-4776-8921-75b1a166feef",
   "metadata": {},
   "outputs": [
    {
     "name": "stdout",
     "output_type": "stream",
     "text": [
      "sum of valid game IDs :  1931\n"
     ]
    }
   ],
   "source": [
    "# part 1\n",
    "f = open(\"input2.txt\", \"r\")\n",
    "dict_color_number =  {'red' : 12, 'green' :  13, 'blue' : 14}\n",
    "sum_game_id = 0\n",
    "for line in f.readlines():\n",
    "    game_part_str, balls_part_str = line.split(':')\n",
    "    game_id = int(game_part_str.replace('Game ','').strip())\n",
    "    valid_ind = 1\n",
    "    for balls_number_color_str in balls_part_str.replace(';',',').split(','):\n",
    "        balls_number_color_str = balls_number_color_str.replace('\\n','').strip()\n",
    "        balls_number, balls_color = balls_number_color_str.split(' ')\n",
    "        if int(balls_number) > dict_color_number[balls_color]:\n",
    "            valid_ind = 0\n",
    "    if valid_ind == 1:\n",
    "        sum_game_id += game_id\n",
    "print(f'sum of valid game IDs :  {sum_game_id}')"
   ]
  },
  {
   "cell_type": "code",
   "execution_count": 2,
   "id": "1f70e26b-e669-4cb0-ab05-79a6b513ad5f",
   "metadata": {},
   "outputs": [
    {
     "name": "stdout",
     "output_type": "stream",
     "text": [
      "sum of power sets : 83105\n"
     ]
    }
   ],
   "source": [
    "# part 2\n",
    "f = open(\"input2.txt\", \"r\")\n",
    "sum_power_sets = 0\n",
    "for line in f.readlines():\n",
    "    game_part_str, balls_part_str = line.split(':')\n",
    "    game_id = int(game_part_str.replace('Game ','').strip())\n",
    "    dict_color_max_number = {'red' : 0, 'green' :  0, 'blue' : 0}\n",
    "    for balls_number_color_str in balls_part_str.replace(';',',').split(','):\n",
    "        balls_number_color_str = balls_number_color_str.replace('\\n','').strip()\n",
    "        balls_number, balls_color = balls_number_color_str.split(' ')\n",
    "        if int(balls_number) > dict_color_max_number[balls_color]:\n",
    "            dict_color_max_number[balls_color] = int(balls_number)\n",
    "    power_sets = 1\n",
    "    for number in dict_color_max_number.values():\n",
    "        power_sets = power_sets * number\n",
    "    sum_power_sets += power_sets\n",
    "print(f'sum of power sets : {sum_power_sets}')"
   ]
  },
  {
   "cell_type": "code",
   "execution_count": null,
   "id": "f4da9061-5fe6-4926-a877-4b592728d2d2",
   "metadata": {},
   "outputs": [],
   "source": []
  }
 ],
 "metadata": {
  "kernelspec": {
   "display_name": "Python 3 (ipykernel)",
   "language": "python",
   "name": "python3"
  },
  "language_info": {
   "codemirror_mode": {
    "name": "ipython",
    "version": 3
   },
   "file_extension": ".py",
   "mimetype": "text/x-python",
   "name": "python",
   "nbconvert_exporter": "python",
   "pygments_lexer": "ipython3",
   "version": "3.11.6"
  }
 },
 "nbformat": 4,
 "nbformat_minor": 5
}
