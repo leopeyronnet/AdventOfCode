{
 "cells": [
  {
   "cell_type": "markdown",
   "id": "b876a717-5c17-4a81-98a5-48100ce03dd4",
   "metadata": {},
   "source": [
    "### part 1"
   ]
  },
  {
   "cell_type": "code",
   "execution_count": 109,
   "id": "e7326b89-3cae-4287-b011-50b883f85f60",
   "metadata": {},
   "outputs": [],
   "source": [
    "import numpy as np"
   ]
  },
  {
   "cell_type": "code",
   "execution_count": 110,
   "id": "1a4ddd59-9fca-47a0-917d-76dcc6627feb",
   "metadata": {},
   "outputs": [],
   "source": [
    "f = open(\"input4.txt\", \"r\")\n",
    "sum_points = 0\n",
    "for line in f.readlines():\n",
    "    line = line.replace('  ', ' ')\n",
    "    game_part, nbs_part = line.split(':')\n",
    "    win_nbs, nbs = nbs_part.split('|')\n",
    "    win_nbs, nbs = win_nbs.strip().split(' '), nbs.strip().split(' ')\n",
    "    nb_of_match = len(list(set(nbs).intersection(set(win_nbs))))\n",
    "    sum_points += np.power(2,nb_of_match - 1) if nb_of_match > 0 else 0"
   ]
  },
  {
   "cell_type": "code",
   "execution_count": 111,
   "id": "d00493d1-3ad7-454d-b33b-373d4eb41323",
   "metadata": {},
   "outputs": [
    {
     "data": {
      "text/plain": [
       "32609"
      ]
     },
     "execution_count": 111,
     "metadata": {},
     "output_type": "execute_result"
    }
   ],
   "source": [
    "sum_points"
   ]
  },
  {
   "cell_type": "markdown",
   "id": "8b96e7cc-bc82-40bf-a2a8-2618d25af20f",
   "metadata": {},
   "source": [
    "### part 2"
   ]
  },
  {
   "cell_type": "code",
   "execution_count": 112,
   "id": "da26ef7c-18d5-46a8-aa2b-4c3ea10d0157",
   "metadata": {
    "scrolled": true
   },
   "outputs": [],
   "source": [
    "f = open(\"input4.txt\", \"r\")\n",
    "dict_card_num_count = {}\n",
    "max_card_nb = len(f.readlines())\n",
    "for i in range(1, max_card_nb + 1, 1):\n",
    "    dict_card_num_count[i] = 1\n",
    "f.seek(0)\n",
    "sum_points = 0\n",
    "for line in f.readlines():\n",
    "    line = line.replace('  ', ' ')\n",
    "    game_part, nbs_part = line.split(':')\n",
    "    card_nb = int(game_part.replace('Card ',''))\n",
    "    win_nbs, nbs = nbs_part.split('|')\n",
    "    win_nbs, nbs = win_nbs.strip().split(' '), nbs.strip().split(' ')\n",
    "    nb_of_match = len(list(set(nbs).intersection(set(win_nbs))))\n",
    "    for i in range(card_nb + 1, card_nb + 1 + nb_of_match, 1):\n",
    "        if i <= max_card_nb:\n",
    "            dict_card_num_count[i] += dict_card_num_count[card_nb]"
   ]
  },
  {
   "cell_type": "code",
   "execution_count": 113,
   "id": "d80030a7-8411-422f-bc20-6cf978913325",
   "metadata": {},
   "outputs": [
    {
     "data": {
      "text/plain": [
       "14624680"
      ]
     },
     "execution_count": 113,
     "metadata": {},
     "output_type": "execute_result"
    }
   ],
   "source": [
    "sum(dict_card_num_count.values())"
   ]
  },
  {
   "cell_type": "code",
   "execution_count": null,
   "id": "f1f01cf2-90fa-4af6-b6bd-67f1626eba10",
   "metadata": {},
   "outputs": [],
   "source": []
  }
 ],
 "metadata": {
  "kernelspec": {
   "display_name": "Python 3 (ipykernel)",
   "language": "python",
   "name": "python3"
  },
  "language_info": {
   "codemirror_mode": {
    "name": "ipython",
    "version": 3
   },
   "file_extension": ".py",
   "mimetype": "text/x-python",
   "name": "python",
   "nbconvert_exporter": "python",
   "pygments_lexer": "ipython3",
   "version": "3.11.6"
  }
 },
 "nbformat": 4,
 "nbformat_minor": 5
}
