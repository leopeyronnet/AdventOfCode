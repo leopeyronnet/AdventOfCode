{
  "metadata": {
    "kernelspec": {
      "name": "python",
      "display_name": "Python (Pyodide)",
      "language": "python"
    },
    "language_info": {
      "codemirror_mode": {
        "name": "python",
        "version": 3
      },
      "file_extension": ".py",
      "mimetype": "text/x-python",
      "name": "python",
      "nbconvert_exporter": "python",
      "pygments_lexer": "ipython3",
      "version": "3.8"
    }
  },
  "nbformat_minor": 4,
  "nbformat": 4,
  "cells": [
    {
      "cell_type": "code",
      "source": "import re",
      "metadata": {
        "trusted": true
      },
      "outputs": [],
      "execution_count": 6
    },
    {
      "cell_type": "code",
      "source": "f = open(\"input1.txt\", \"r\")\ndict_convert_char_to_digit = {'one':'1', 'two':'2', 'three':'3', 'four':'4', 'five':'5', 'six':'6', 'seven':'7', 'eight':'8', 'nine':'9'}\nsum_calibration_values = 0\nfor line in f.readlines():\n    # Part 2\n    for char_number, digit_number in dict_convert_char_to_digit.items():\n        line = line.replace(char_number, char_number+digit_number+char_number)\n    # End part 2\n    all_numbers_in_line = ''.join(re.findall(r'\\d+', line))\n    calibration_value = all_numbers_in_line[0] + all_numbers_in_line[-1]\n    sum_calibration_values += int(calibration_value)",
      "metadata": {
        "trusted": true
      },
      "outputs": [],
      "execution_count": 7
    },
    {
      "cell_type": "code",
      "source": "print(f'sum of calibration values : {sum_calibration_values}')",
      "metadata": {
        "trusted": true
      },
      "outputs": [
        {
          "name": "stdout",
          "text": "sum of calibration values : 54676\n",
          "output_type": "stream"
        }
      ],
      "execution_count": 8
    },
    {
      "cell_type": "code",
      "source": "",
      "metadata": {
        "trusted": true
      },
      "outputs": [],
      "execution_count": null
    }
  ]
}