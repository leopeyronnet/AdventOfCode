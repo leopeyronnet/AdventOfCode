{
 "cells": [
  {
   "cell_type": "code",
   "execution_count": 86,
   "id": "84637593",
   "metadata": {},
   "outputs": [
    {
     "name": "stdout",
     "output_type": "stream",
     "text": [
      "Sum of the multiplications:  187833789\n"
     ]
    }
   ],
   "source": [
    "# Part 1\n",
    "\n",
    "import re\n",
    "f = open(\"input_3.txt\", \"r\")\n",
    "\n",
    "sum_of_mul = 0\n",
    "for line in f.readlines():\n",
    "    matches = re.findall(r\"mul\\(\\d{1,3},\\d{1,3}\\)\", line)\n",
    "    for match in matches:\n",
    "        x, y = match.replace('mul(','').replace(')','').split(',')\n",
    "        sum_of_mul += int(x) * int(y)\n",
    "\n",
    "print('Sum of the multiplications: ', str(sum_of_mul))\n"
   ]
  },
  {
   "cell_type": "code",
   "execution_count": 87,
   "id": "f7fb2cdf",
   "metadata": {},
   "outputs": [
    {
     "name": "stdout",
     "output_type": "stream",
     "text": [
      "Sum of the multiplications:  94455185\n"
     ]
    }
   ],
   "source": [
    "# Part 2\n",
    "\n",
    "import re\n",
    "f = open(\"input_3.txt\", \"r\")\n",
    "\n",
    "sum_of_mul = 0\n",
    "last_instruction = 1\n",
    "for line in f.readlines():\n",
    "    do_matches = re.finditer(r'\\bdo()\\b', line)\n",
    "    dont_matches = re.finditer(r\"\\bdon't()\\b\", line)\n",
    "    do_positions = [(elt.start(), elt.end(), 1) for elt in do_matches]\n",
    "    dont_positions = [(elt.start(), elt.end(), 0) for elt in dont_matches]\n",
    "    all_positions = do_positions + dont_positions\n",
    "    all_positions = sorted(all_positions, key=lambda x: x[0])\n",
    "    for pos_i, pos_i_plus_1 in zip(all_positions[0:-1], all_positions[1:]):\n",
    "        if pos_i[2] == 0:\n",
    "            line = line [0:pos_i[1]] + '*'*(pos_i_plus_1[1] - pos_i[1]) + line [pos_i_plus_1[1]:]\n",
    "    last_position = all_positions[-1]\n",
    "    if last_position[2] == 0:\n",
    "        line = line[0 : last_position[1]]\n",
    "    if last_instruction == 0:\n",
    "        line = line[all_positions[0][1]:]\n",
    "    if last_position[2] == 0:\n",
    "        last_instruction = 0\n",
    "    else:\n",
    "        last_instruction = 1\n",
    "    matches = re.findall(r\"mul\\(\\d{1,3},\\d{1,3}\\)\", line)\n",
    "    for match in matches:\n",
    "        x, y = match.replace('mul(','').replace(')','').split(',')\n",
    "        sum_of_mul += int(x) * int(y)\n",
    "        \n",
    "print('Sum of the multiplications: ', str(sum_of_mul))"
   ]
  },
  {
   "cell_type": "code",
   "execution_count": null,
   "id": "be9e6f2f",
   "metadata": {},
   "outputs": [],
   "source": []
  }
 ],
 "metadata": {
  "kernelspec": {
   "display_name": "Python 3 (ipykernel)",
   "language": "python",
   "name": "python3"
  },
  "language_info": {
   "codemirror_mode": {
    "name": "ipython",
    "version": 3
   },
   "file_extension": ".py",
   "mimetype": "text/x-python",
   "name": "python",
   "nbconvert_exporter": "python",
   "pygments_lexer": "ipython3",
   "version": "3.11.5"
  }
 },
 "nbformat": 4,
 "nbformat_minor": 5
}
