{
  "metadata": {
    "kernelspec": {
      "name": "python",
      "display_name": "Python (Pyodide)",
      "language": "python"
    },
    "language_info": {
      "codemirror_mode": {
        "name": "python",
        "version": 3
      },
      "file_extension": ".py",
      "mimetype": "text/x-python",
      "name": "python",
      "nbconvert_exporter": "python",
      "pygments_lexer": "ipython3",
      "version": "3.8"
    }
  },
  "nbformat_minor": 4,
  "nbformat": 4,
  "cells": [
    {
      "cell_type": "code",
      "source": "# Part 1\nf = open(\"input_1.txt\", \"r\")\n\nleft_list = []\nright_list = []\n\nfor line in f.readlines():\n    two_numbers_in_line = line.replace('\\n','').split('   ')\n    left_list += [two_numbers_in_line[0]]\n    right_list += [two_numbers_in_line[1]]\n    left_list.sort()\n    right_list.sort()\n\ncount = 0\nfor x1, x2 in zip(left_list, right_list):\n    dist = abs(int(x1) - int(x2))\n    count += dist\n\nprint('Total distance: ', str(count))",
      "metadata": {
        "trusted": true
      },
      "outputs": [
        {
          "name": "stdout",
          "text": "Total distance:  1941353\n",
          "output_type": "stream"
        }
      ],
      "execution_count": 1
    },
    {
      "cell_type": "code",
      "source": "# Part 2\nf = open(\"input_1.txt\", \"r\")\n\nleft_list = []\nright_list = []\n\nfor line in f.readlines():\n    two_numbers_in_line = line.replace('\\n','').split('   ')\n    left_list += [int(two_numbers_in_line[0])]\n    right_list += [int(two_numbers_in_line[1])]\n    left_list.sort()\n    right_list.sort()\n\nscore = 0\nfor x1 in left_list:\n    similarity = x1 * right_list.count(x1)\n    score += similarity\n\nprint('Total similarity score: ', str(score))",
      "metadata": {
        "trusted": true
      },
      "outputs": [
        {
          "name": "stdout",
          "text": "Total similarity score:  22539317\n",
          "output_type": "stream"
        }
      ],
      "execution_count": 2
    },
    {
      "cell_type": "code",
      "source": "",
      "metadata": {
        "trusted": true
      },
      "outputs": [],
      "execution_count": null
    }
  ]
}