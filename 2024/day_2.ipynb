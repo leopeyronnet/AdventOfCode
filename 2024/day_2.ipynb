{
  "metadata": {
    "kernelspec": {
      "name": "python",
      "display_name": "Python (Pyodide)",
      "language": "python"
    },
    "language_info": {
      "codemirror_mode": {
        "name": "python",
        "version": 3
      },
      "file_extension": ".py",
      "mimetype": "text/x-python",
      "name": "python",
      "nbconvert_exporter": "python",
      "pygments_lexer": "ipython3",
      "version": "3.8"
    }
  },
  "nbformat_minor": 4,
  "nbformat": 4,
  "cells": [
    {
      "cell_type": "code",
      "source": "# Part 1\nf = open(\"input_2.txt\", \"r\")\n\ndef is_report_safe(levels):\n    levels_cp_asc = levels.copy()\n    levels_cp_desc = levels.copy()\n    levels_cp_asc.sort()\n    levels_cp_desc.sort(reverse = True)\n    if (levels_cp_asc != levels) and (levels_cp_desc != levels):\n        return 0\n    adf_levels_diff = [abs(x - y) for x, y in zip(levels[0:-1], levels[1:])]\n    if (max(adf_levels_diff) > 3) or (min(adf_levels_diff) < 1):\n        return 0\n    return 1\n\ncount_safe_reports = 0\nfor line in f.readlines():\n    levels = [int(elt) for elt in line.replace('\\n','').split(' ')]\n    count_safe_reports += is_report_safe(levels)\n\nprint('Count of safe reports: ', str(count_safe_reports))",
      "metadata": {
        "trusted": true
      },
      "outputs": [
        {
          "name": "stdout",
          "text": "Count of safe reports:  598\n",
          "output_type": "stream"
        }
      ],
      "execution_count": 41
    },
    {
      "cell_type": "code",
      "source": "# Part 2\nf = open(\"input_2.txt\", \"r\")\n\ndef get_all_possible_levels(levels_lst):\n    all_possible_levels = []\n    for i in range(0,len(levels_lst)):\n        all_possible_levels += [levels_lst[:i] + levels_lst[i+1:]]\n    return all_possible_levels\n\ndef is_report_safe(levels_):\n    levels = levels_.copy()\n    for levels in get_all_possible_levels(levels_):\n        levels_cp_asc = levels.copy()\n        levels_cp_desc = levels.copy()\n        levels_cp_asc.sort()\n        levels_cp_desc.sort(reverse = True)\n        if (levels_cp_asc != levels) and (levels_cp_desc != levels):\n            continue\n        adf_levels_diff = [abs(x - y) for x, y in zip(levels[0:-1], levels[1:])]\n        if (max(adf_levels_diff) > 3) or (min(adf_levels_diff) < 1):\n            continue\n        return 1\n    return 0\n\ncount_safe_reports = 0\nfor line in f.readlines():\n    levels = [int(elt) for elt in line.replace('\\n','').split(' ')]\n    count_safe_reports += is_report_safe(levels)\n\nprint('Count of safe reports: ', str(count_safe_reports))",
      "metadata": {
        "trusted": true
      },
      "outputs": [
        {
          "name": "stdout",
          "text": "Count of safe reports:  634\n",
          "output_type": "stream"
        }
      ],
      "execution_count": 42
    }
  ]
}