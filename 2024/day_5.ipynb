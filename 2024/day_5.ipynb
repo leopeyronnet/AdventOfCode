{
 "cells": [
  {
   "cell_type": "code",
   "execution_count": 2,
   "id": "329bde50",
   "metadata": {},
   "outputs": [
    {
     "name": "stdout",
     "output_type": "stream",
     "text": [
      "Sum of middle page numbers: 4790\n"
     ]
    }
   ],
   "source": [
    "# Part 1\n",
    "import numpy as np\n",
    "f = open(\"input_5.txt\", \"r\")\n",
    "list_rules = []\n",
    "list_pages = []\n",
    "for line in f.readlines():\n",
    "    line = line.replace('\\n', '')\n",
    "    if '|' in line:\n",
    "        list_rules += [[int(elt) for elt in line.split('|')]]\n",
    "    if ',' in line:\n",
    "        list_pages += [[int(elt) for elt in line.split(',')]]\n",
    "        \n",
    "def check_pages_order(pages):\n",
    "    n = len(pages)\n",
    "    for i in range(0, n):\n",
    "        for j in range(i+1, n):\n",
    "            if [pages[i], pages[j]] in list_rules:\n",
    "                continue\n",
    "            else:\n",
    "                return 0\n",
    "    return 1\n",
    "\n",
    "\n",
    "sum_correct_middle_pages = 0\n",
    "for pages in list_pages:\n",
    "    if check_pages_order(pages) == 1:\n",
    "        sum_correct_middle_pages += pages[len(pages)//2]\n",
    "        \n",
    "print('Sum of middle page numbers:', str(sum_correct_middle_pages))"
   ]
  },
  {
   "cell_type": "code",
   "execution_count": 3,
   "id": "5c19a952",
   "metadata": {
    "scrolled": true
   },
   "outputs": [
    {
     "name": "stdout",
     "output_type": "stream",
     "text": [
      "Sum of reordered middle page numbers: 6319\n"
     ]
    }
   ],
   "source": [
    "# Part 2\n",
    "import numpy as np\n",
    "f = open(\"input_5.txt\", \"r\")\n",
    "list_rules = []\n",
    "list_pages = []\n",
    "for line in f.readlines():\n",
    "    line = line.replace('\\n', '')\n",
    "    if '|' in line:\n",
    "        list_rules += [[int(elt) for elt in line.split('|')]]\n",
    "    if ',' in line:\n",
    "        list_pages += [[int(elt) for elt in line.split(',')]]\n",
    "        \n",
    "def check_pages_order(pages):\n",
    "    n = len(pages)\n",
    "    for i in range(0, n):\n",
    "        for j in range(i+1, n):\n",
    "            if [pages[i], pages[j]] in list_rules:\n",
    "                continue\n",
    "            else:\n",
    "                return 0\n",
    "    return 1\n",
    "        \n",
    "def fix_page_order(pages):\n",
    "    n = len(pages)\n",
    "    for i in range(0, n):\n",
    "        for j in range(i+1, n):\n",
    "            if [pages[i], pages[j]] in list_rules:\n",
    "                continue\n",
    "            else:\n",
    "                processed = 0\n",
    "                for page in pages[i:]:\n",
    "                    if ([pages[i], page] in list_rules and processed == 0):\n",
    "                        wrongly_ordered_page = pages[i]\n",
    "                        pages.remove(pages[i])\n",
    "                        new_following_page_index = pages.index(page)\n",
    "                        pages = pages[:new_following_page_index] + [wrongly_ordered_page] + pages[new_following_page_index:]\n",
    "                        processed = 1\n",
    "                for page in pages[::-1]:\n",
    "                    if ([page, pages[i]] in list_rules and processed == 0):\n",
    "                        wrongly_ordered_page = pages[i]\n",
    "                        pages.remove(pages[i])\n",
    "                        new_preceding_page_index = pages.index(page)\n",
    "                        pages = pages[:new_preceding_page_index+2] + [wrongly_ordered_page] + pages[new_preceding_page_index+2:]\n",
    "                        processed = 1\n",
    "    return pages\n",
    "        \n",
    "def check_pages_wrongly_ordered(pages):\n",
    "    n = len(pages)\n",
    "    is_order_correct = 1\n",
    "    for i in range(0, n):\n",
    "        for j in range(i+1, n):\n",
    "            if [pages[i], pages[j]] in list_rules:\n",
    "                continue\n",
    "            else:\n",
    "                is_order_correct = 0\n",
    "                while check_pages_order(pages) == 0:\n",
    "                    pages = fix_page_order(pages)\n",
    "    if is_order_correct == 0:\n",
    "        return pages[n//2]\n",
    "    else:\n",
    "        return 0\n",
    "\n",
    "\n",
    "sum_reordered_middle_pages = 0\n",
    "for pages in list_pages:\n",
    "    sum_reordered_middle_pages += check_pages_wrongly_ordered(pages)\n",
    "        \n",
    "print('Sum of reordered middle page numbers:', str(sum_reordered_middle_pages))"
   ]
  },
  {
   "cell_type": "code",
   "execution_count": null,
   "id": "f9bf4ed2",
   "metadata": {},
   "outputs": [],
   "source": []
  }
 ],
 "metadata": {
  "kernelspec": {
   "display_name": "Python 3 (ipykernel)",
   "language": "python",
   "name": "python3"
  },
  "language_info": {
   "codemirror_mode": {
    "name": "ipython",
    "version": 3
   },
   "file_extension": ".py",
   "mimetype": "text/x-python",
   "name": "python",
   "nbconvert_exporter": "python",
   "pygments_lexer": "ipython3",
   "version": "3.11.5"
  }
 },
 "nbformat": 4,
 "nbformat_minor": 5
}
