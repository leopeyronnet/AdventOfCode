{
 "cells": [
  {
   "cell_type": "code",
   "execution_count": 169,
   "id": "b04e3101",
   "metadata": {},
   "outputs": [
    {
     "name": "stdout",
     "output_type": "stream",
     "text": [
      "XMAS appears 2618 times\n"
     ]
    }
   ],
   "source": [
    "# Part 1\n",
    "import numpy as np\n",
    "f = open(\"input_4.txt\", \"r\")\n",
    "list_of_lines = []\n",
    "for line in f.readlines():\n",
    "    line = line.replace('\\n','')\n",
    "    list_of_lines += [list(line)]\n",
    "grid = np.asarray(list_of_lines)\n",
    "\n",
    "i_max, j_max = np.shape(grid)\n",
    "\n",
    "x_ordered_txt = ''\n",
    "for i in range(0,i_max):\n",
    "    x_ordered_txt += '*'\n",
    "    for j in  range(0,j_max):\n",
    "        x_ordered_txt += grid[i][j]\n",
    "x__rev_ordered_txt = x_ordered_txt[::-1]\n",
    "\n",
    "y_ordered_txt = ''\n",
    "for j in range(0,j_max):\n",
    "    y_ordered_txt += '*'\n",
    "    for i in  range(0,i_max):\n",
    "        y_ordered_txt += grid[i][j]\n",
    "y_rev_ordered_txt = y_ordered_txt[::-1]\n",
    "\n",
    "diag_ordered_txt = ''\n",
    "for i in range(-i_max,i_max):\n",
    "    diag_ordered_txt += ''.join(list(np.diagonal(grid, offset = i))) + '*'\n",
    "diag_rev_ordered_txt = diag_ordered_txt[::-1]\n",
    "\n",
    "rotated_grid = np.rot90(grid)\n",
    "anti_diag_ordered_txt = ''\n",
    "for i in range(-i_max,i_max):\n",
    "    anti_diag_ordered_txt += ''.join(list(np.diagonal(rotated_grid, offset = i))) + '*'\n",
    "anti_diag_rev_ordered_txt = anti_diag_ordered_txt[::-1]\n",
    "\n",
    "all_txt_possibilities = '*'.join([x_ordered_txt, x__rev_ordered_txt, y_ordered_txt, y_rev_ordered_txt,\n",
    "                                 diag_ordered_txt, diag_rev_ordered_txt, anti_diag_ordered_txt,\n",
    "                                 anti_diag_rev_ordered_txt])\n",
    "\n",
    "print('XMAS appears', len(all_txt_possibilities.split('XMAS')) - 1, 'times')"
   ]
  },
  {
   "cell_type": "code",
   "execution_count": 170,
   "id": "4b2d825a",
   "metadata": {},
   "outputs": [
    {
     "name": "stdout",
     "output_type": "stream",
     "text": [
      "X-MAS appears 2011 times\n"
     ]
    }
   ],
   "source": [
    "# Part 2\n",
    "import numpy as np\n",
    "f = open(\"input_4.txt\", \"r\")\n",
    "list_of_lines = []\n",
    "for line in f.readlines():\n",
    "    line = line.replace('\\n','')\n",
    "    list_of_lines += [list(line)]\n",
    "grid = np.asarray(list_of_lines)\n",
    "\n",
    "i_max, j_max = np.shape(grid)\n",
    "\n",
    "count_x_mas = 0\n",
    "for i in range(0, i_max - 3 + 1):\n",
    "    for j in range(0, j_max - 3 + 1):\n",
    "        sub_array = grid[i:i + 3, j:j + 3]\n",
    "        rotated_sub_array = np.rot90(sub_array)\n",
    "        if (''.join(list(np.diagonal(sub_array))) in ['MAS','SAM']) and (''.join(list(np.diagonal(rotated_sub_array))) in ['MAS','SAM']):\n",
    "            count_x_mas += 1\n",
    "\n",
    "print('X-MAS appears', count_x_mas, 'times')"
   ]
  },
  {
   "cell_type": "code",
   "execution_count": null,
   "id": "b6724844",
   "metadata": {},
   "outputs": [],
   "source": []
  }
 ],
 "metadata": {
  "kernelspec": {
   "display_name": "Python 3 (ipykernel)",
   "language": "python",
   "name": "python3"
  },
  "language_info": {
   "codemirror_mode": {
    "name": "ipython",
    "version": 3
   },
   "file_extension": ".py",
   "mimetype": "text/x-python",
   "name": "python",
   "nbconvert_exporter": "python",
   "pygments_lexer": "ipython3",
   "version": "3.11.5"
  }
 },
 "nbformat": 4,
 "nbformat_minor": 5
}
